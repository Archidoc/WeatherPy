{
 "cells": [
  {
   "cell_type": "markdown",
   "metadata": {},
   "source": [
    "# Analysis"
   ]
  },
  {
   "cell_type": "code",
   "execution_count": null,
   "metadata": {},
   "outputs": [],
   "source": []
  },
  {
   "cell_type": "markdown",
   "metadata": {},
   "source": [
    "# Cities List generation"
   ]
  },
  {
   "cell_type": "code",
   "execution_count": null,
   "metadata": {},
   "outputs": [],
   "source": [
    "# Import dependencies\n",
    "import numpy as no\n",
    "import pandas as pd\n",
    "import matplotlib.pyplot as plt\n",
    "import seaborn as sns\n",
    "from citipy import citipy\n",
    "import random\n",
    "import requests\n",
    "from config import api_key\n"
   ]
  },
  {
   "cell_type": "code",
   "execution_count": null,
   "metadata": {},
   "outputs": [],
   "source": [
    "# List of latitudes and longitudes\n",
    "latitudes = range (-90,90)\n",
    "longitudes = range (-180,180)\n",
    "city_list = []\n",
    "\n",
    "for lat in latitudes:\n",
    "    for lng in longitudes:\n",
    "        city = citipy.nearest_city(lat, lng)\n",
    "        city_name = city.city_name\n",
    "        city_list.append(city_name)\n",
    "\n",
    "#remove duplicates\n",
    "city_dataframe=pd.DataFrame(city_list)\n",
    "clean_city_dataframe = city_dataframe.drop_duplicates()\n",
    "\n",
    "clean_city_dataframe.head()"
   ]
  },
  {
   "cell_type": "code",
   "execution_count": null,
   "metadata": {},
   "outputs": [],
   "source": [
    "clean_city_dataframe.count()"
   ]
  },
  {
   "cell_type": "code",
   "execution_count": null,
   "metadata": {},
   "outputs": [],
   "source": [
    "#generate cities sample\n",
    "cities_sample = clean_city_dataframe.sample(5)\n",
    "#generate the cities index from 1 to 600\n",
    "cities_sample = cities_sample.reset_index(drop = True)\n",
    "#rename the cities column by \"City\"\n",
    "cities_sample.columns = [\"City\"]\n",
    "#start the index from 1\n",
    "cities_sample.index+= 1\n",
    "#print the sampled cities\n",
    "cities_sample.head()"
   ]
  },
  {
   "cell_type": "code",
   "execution_count": null,
   "metadata": {},
   "outputs": [],
   "source": [
    "#create the additional columns to hold the informations\n",
    "cities_sample[\"Lat\"]=\"\"\n",
    "cities_sample[\"Lng\"]=\"\"\n",
    "cities_sample[\"Country\"]=\"\"\n",
    "cities_sample[\"Date\"]=\"\"\n",
    "cities_sample[\"Max temp\"]=\"\"\n",
    "cities_sample[\"Humidity\"]=\"\"\n",
    "cities_sample[\"Cloudiness\"]=\"\"\n",
    "cities_sample[\"Wind speed\"]=\"\"\n",
    "cities_sample.head()"
   ]
  },
  {
   "cell_type": "markdown",
   "metadata": {},
   "source": [
    "# Retrieve data from OpenWeatherMap Api"
   ]
  },
  {
   "cell_type": "code",
   "execution_count": null,
   "metadata": {},
   "outputs": [],
   "source": [
    "print(\"Data retrieval beginning\")\n",
    "print(\"------------------------\")\n",
    "\n",
    "#Open weather API key\n",
    "api_key = \"25bc90a1196e6f153eece0bc0b0fc9eb\"\n",
    "#define the units as imperial to retrieve temperature Farenheit and wind speed miles per hour\n",
    "units = \"Imperial\"\n",
    "#display url\n",
    "url = \"http://api.openweathermap.org/data/2.5/weather?\"\n",
    "\n",
    "for index,row in cities_sample.iterrows():\n",
    "    city_name=row[\"City\"]\n",
    "    city_name_url= city_name.replace(\"\", \"%20\")\n",
    "    #query url\n",
    "    query_url = url + \"appid=\" + api_key + \"&units=\" + units + \"&q=\" + row[\"City\"]\n",
    "    # Get weather data\n",
    "    weather_response = requests.get(query_url)\n",
    "    weather_json = weather_response.json()\n",
    "    print(weather_json)\n",
    "#     cities_sample.set_value(index,\"Lat\", int(weather_json[\"coord\"][\"lat\"]))\n",
    "#     cities_sample.set_value(index,\"Lng\", int(weather_json[\"coord\"][\"lon\"]))\n",
    "#     cities_sample.set_value(index,\"Country\", str(weather_json[\"sys\"][\"country\"]))\n",
    "#     cities_sample.set_value(index,\"Date\", int(weather_json[\"dt\"]))\n",
    "#     cities_sample.set_value(index,\"Max temp\", int(weather_json[\"main\"][\"temp_max\"]))\n",
    "#     cities_sample.set_value(index,\"Humidity\", int(weather_json[\"main\"][\"humidity\"]))\n",
    "#     cities_sample.set_value(index,\"Cloudiness\", int(weather_json[\"clouds\"][\"all\"]))\n",
    "#     cities_sample.set_value(index,\"Wind speed\", int(weather_json[\"wind\"][\"speed\"]))    \n",
    "#     print(\"Processing city #\" + str(index) + \" out of 600, name: \" + str(city_name))\n",
    "#     query_url\n",
    "#     print(query_url)\n",
    "\n",
    "# print(\"------------------------\")\n",
    "# print(\"Data retrieval done\")\n",
    "\n",
    "# # Save config information\n"
   ]
  },
  {
   "cell_type": "code",
   "execution_count": 63,
   "metadata": {},
   "outputs": [],
   "source": [
    "\n",
    "\n",
    "# # Get the temperature from the response\n",
    "# print(f\"The weather API responded with: {weather_json}.\")"
   ]
  },
  {
   "cell_type": "code",
   "execution_count": 21,
   "metadata": {},
   "outputs": [],
   "source": []
  },
  {
   "cell_type": "code",
   "execution_count": 27,
   "metadata": {},
   "outputs": [],
   "source": []
  },
  {
   "cell_type": "code",
   "execution_count": 20,
   "metadata": {},
   "outputs": [],
   "source": []
  }
 ],
 "metadata": {
  "kernelspec": {
   "display_name": "Python [conda env:PythonData]",
   "language": "python",
   "name": "conda-env-PythonData-py"
  },
  "language_info": {
   "codemirror_mode": {
    "name": "ipython",
    "version": 3
   },
   "file_extension": ".py",
   "mimetype": "text/x-python",
   "name": "python",
   "nbconvert_exporter": "python",
   "pygments_lexer": "ipython3",
   "version": "3.6.4"
  }
 },
 "nbformat": 4,
 "nbformat_minor": 2
}
